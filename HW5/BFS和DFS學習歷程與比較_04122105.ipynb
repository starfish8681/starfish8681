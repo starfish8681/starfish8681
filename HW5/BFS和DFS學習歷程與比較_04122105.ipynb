{
 "cells": [
  {
   "cell_type": "markdown",
   "metadata": {},
   "source": [
    "BFS與DFS學習歷程\n",
    "===\n",
    "\n",
    "BFS (廣度優先搜尋)介紹\n",
    "---\n",
    "從圖的某一節點開始走訪，走訪此節點所有相鄰且未拜訪過的節點，接著走訪下一層的節點。下一層的各節點開始走訪順序也要跟上一層走訪過的順序相同。  \n",
    "\n",
    "- BFS 原理  \n",
    "利用Queue的原理來運作，用來存放將走訪的節點，再用pop的方式取出節點(先進先出)。   \n",
    "走訪過的節點再依序放入一個array中。  "
   ]
  },
  {
   "cell_type": "code",
   "execution_count": 129,
   "metadata": {
    "scrolled": true
   },
   "outputs": [
    {
     "name": "stdout",
     "output_type": "stream",
     "text": [
      "[1, 2, 3]\n"
     ]
    },
    {
     "data": {
      "text/plain": [
       "1"
      ]
     },
     "execution_count": 129,
     "metadata": {},
     "output_type": "execute_result"
    }
   ],
   "source": [
    "queue = []\n",
    "queue.append(1)\n",
    "queue.append(2)\n",
    "queue.append(3)\n",
    "print(queue)\n",
    "queue.pop(0)  #拿出第一個加入的數(先進先出)"
   ]
  },
  {
   "cell_type": "markdown",
   "metadata": {},
   "source": [
    "\n",
    "[BFS流程圖](https://github.com/starfish8681/starfish8681/blob/master/Week%2012/BFS%E6%B5%81%E7%A8%8B%E5%9C%96.jpg)\n",
    "---\n",
    "\n",
    "\n",
    "---  \n",
    "\n",
    "\n",
    "DFS (深度優先搜尋)介紹\n",
    "---\n",
    "從圖的某一節點開始走訪，沿著一個方向走訪直到沒有辦法再前進，回到前一個有其他鄰節點的點，再沿著新的一個方向走訪，直到所有節點都被走訪過。   \n",
    "\n",
    "- DFS 原理  \n",
    "利用Stack的原理來運作，用來存放將走訪的節點，再用pop的方式取出節點(後進先出)。   \n",
    "走訪過的節點再依序放入一個array中。  \n"
   ]
  },
  {
   "cell_type": "code",
   "execution_count": 130,
   "metadata": {},
   "outputs": [
    {
     "name": "stdout",
     "output_type": "stream",
     "text": [
      "[1, 2, 3]\n"
     ]
    },
    {
     "data": {
      "text/plain": [
       "3"
      ]
     },
     "execution_count": 130,
     "metadata": {},
     "output_type": "execute_result"
    }
   ],
   "source": [
    "stack = []\n",
    "stack.append(1)\n",
    "stack.append(2)\n",
    "stack.append(3)\n",
    "print(stack)\n",
    "queue.pop(-1)  #拿出最後一個加入的數(後進先出)"
   ]
  },
  {
   "cell_type": "markdown",
   "metadata": {},
   "source": [
    "\n",
    "[DFS流程圖](https://github.com/starfish8681/starfish8681/blob/master/Week%2012/DFS%E6%B5%81%E7%A8%8B%E5%9C%96.jpg)\n",
    "---\n",
    "\n",
    "\n",
    "\n",
    "BFS與DFS比較\n",
    "---\n",
    "- BFS  \n",
    "\n",
    "1.使用原理: Queue 先進先出   \n",
    "  \n",
    "2.時間複雜度:每個點均需搜尋一次，時間複雜度O(V)，  \n",
    "最壞的情況下，每條邊至少訪問1次，時間復雜度為O(E)，演算法總的時間複雜度為O(V+E)。  \n",
    "  \n",
    "3.空間複雜度:每個節點均須存入Queue，空間複雜度為O(V)。  \n",
    "  \n",
    "- DFS   \n",
    "\n",
    "1.使用原理: Stack 後進先出   \n",
    "  \n",
    "2.時間複雜度:查詢所有頂點的鄰接點所需時間為O(E)，訪問頂點的鄰節點所花時間為O（V），總的時間複雜度為O(V+E)。\n",
    "  \n",
    "3.空間複雜度:需要藉助一個遞迴Stack，空間複雜度為O(V)。  \n",
    "  \n",
    "  \n",
    "參考資料:\n",
    "---\n",
    "- BFS和DFS介紹  \n",
    "\n",
    "https://www.youtube.com/watch?v=oLtvUWpAnTQ  \n",
    "https://www.youtube.com/watch?v=bD8RT0ub--0&t=601s  \n",
    "- BFS和DFS比較  \n",
    "\n",
    "https://www.itread01.com/content/1549064200.html"
   ]
  },
  {
   "cell_type": "markdown",
   "metadata": {},
   "source": [
    "defaultdict 使用\n",
    "---"
   ]
  },
  {
   "cell_type": "code",
   "execution_count": 131,
   "metadata": {},
   "outputs": [
    {
     "name": "stdout",
     "output_type": "stream",
     "text": [
      "[1, 2]\n",
      "[]\n",
      "defaultdict(<class 'list'>, {0: [1, 2], 1: []})\n"
     ]
    }
   ],
   "source": [
    "from collections import defaultdict \n",
    "g = defaultdict(list)\n",
    "g[0].append(1)\n",
    "g[0].append(2)\n",
    "print(g[0])\n",
    "print(g[1])\n",
    "print(g)"
   ]
  },
  {
   "cell_type": "markdown",
   "metadata": {},
   "source": [
    "完整程式碼\n",
    "---"
   ]
  },
  {
   "cell_type": "code",
   "execution_count": 132,
   "metadata": {},
   "outputs": [],
   "source": [
    "from collections import defaultdict \n",
    "\n",
    "\n",
    "class Graph:\n",
    "\n",
    "    def __init__(self): \n",
    "        self.graph = defaultdict(list) \n",
    "\n",
    "    def addEdge(self,u,v): \n",
    "        self.graph[u].append(v) \n",
    "\n",
    "    def BFS(self, s): \n",
    "        queue = []\n",
    "        arr = []\n",
    "        queue.append(s)\n",
    "        while queue: \n",
    "            vertex = queue.pop(0)\n",
    "            for w in self.graph[vertex]:\n",
    "                if w not in arr and w not in queue:\n",
    "                    queue.append(w)         \n",
    "            if vertex not in arr:\n",
    "                arr.append(vertex)   \n",
    "\n",
    "        return arr\n",
    "\n",
    "  \n",
    "\n",
    "    def DFS(self, s):\n",
    "        stack = []\n",
    "        arr = []\n",
    "        stack.append(s)\n",
    "        while stack:  \n",
    "            vertex = stack.pop(-1)\n",
    "            for w in self.graph[vertex]:\n",
    "                if w not in arr and w not in stack:\n",
    "                    stack.append(w)         \n",
    "            if vertex not in arr:\n",
    "                arr.append(vertex)   \n",
    "\n",
    "        return arr\n",
    "\n",
    "  "
   ]
  },
  {
   "cell_type": "code",
   "execution_count": 134,
   "metadata": {},
   "outputs": [
    {
     "name": "stdout",
     "output_type": "stream",
     "text": [
      "[2, 0, 3, 1]\n",
      "[2, 3, 0, 1]\n"
     ]
    }
   ],
   "source": [
    "g = Graph()\n",
    "g.addEdge(0, 1)\n",
    "g.addEdge(0, 2)\n",
    "g.addEdge(1, 2)\n",
    "g.addEdge(2, 0)\n",
    "g.addEdge(2, 3)\n",
    "g.addEdge(3, 3)\n",
    "\n",
    "print(g.BFS(2))\n",
    "print(g.DFS(2))"
   ]
  }
 ],
 "metadata": {
  "kernelspec": {
   "display_name": "Python 3",
   "language": "python",
   "name": "python3"
  },
  "language_info": {
   "codemirror_mode": {
    "name": "ipython",
    "version": 3
   },
   "file_extension": ".py",
   "mimetype": "text/x-python",
   "name": "python",
   "nbconvert_exporter": "python",
   "pygments_lexer": "ipython3",
   "version": "3.7.3"
  }
 },
 "nbformat": 4,
 "nbformat_minor": 2
}
