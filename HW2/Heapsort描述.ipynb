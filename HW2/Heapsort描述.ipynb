{
 "cells": [
  {
   "cell_type": "markdown",
   "metadata": {},
   "source": [
    "1.Heap Sort\n",
    "===\n",
    "參考資料:https://www.youtube.com/watch?v=j-DqQcNPGbE (影片中使用語言為C++)，從影片中學習Heap的結構建立及Heapsort概念理解。\n",
    "\n",
    "一個堆(Heap)的結構:\n",
    "---\n",
    "1.會是一個二元樹(Binary tree)，每一個子樹中的父節點的值必須大於它的兩個子節點。\n",
    "2.節點生成方式一定為由上往下，由左往右。\n",
    "3.當前節點位置為i時，它的父節點位置就會是(i-1)/2整除部分的位置\n",
    "4.當前節點位置為i時，它的兩個子節點(c1與c2)位置分別會是2i+1, 2i+2\n",
    "\n",
    "Heapify的概念:\n",
    "---\n",
    "將一個節點作為父節點出發，若父節點沒有比它的子節點大，則將較大的子節點跟父節點做交換，接著再對交換過的子節點再做Heapify，直到當前的節點(位置為i)已經沒有子節點(2i+1已經大於數列長度n)。\n",
    "\n",
    "*Heapify的限制:\n",
    "Heapify只能保證當前的節點符合Heap的結構，沒有與前面節點交換過的節點的值有可能比前面節點的值大。"
   ]
  },
  {
   "cell_type": "code",
   "execution_count": 74,
   "metadata": {},
   "outputs": [],
   "source": [
    "def heapify(array,n,i): \n",
    "    c1 = 2*i+1   #兩個子節點的位置\n",
    "    c2 = 2*i+2\n",
    "    Biggest = i\n",
    "    if i >= n:    #若當前節點的位置已經大於或等於array的長度，就不需要做Heapify \n",
    "        return\n",
    "    if c1 < n and array[i] < array[c1]:   #若子節點位置大於array長度，代表i節點沒有子節點，不需要做Heapify \n",
    "        Biggest = c1\n",
    "    if c2 < n and array[Biggest] < array[c2]:\n",
    "        Biggest = c2     #找出i, c1, c2中最大的數，作為Biggest\n",
    "    if Biggest != i:\n",
    "        array[i],array[Biggest] = array[Biggest],array[i]    #將最大值換到父節點的位置\n",
    "        heapify(array,n,Biggest)    "
   ]
  },
  {
   "cell_type": "markdown",
   "metadata": {},
   "source": [
    "代入例子試試"
   ]
  },
  {
   "cell_type": "code",
   "execution_count": 76,
   "metadata": {},
   "outputs": [
    {
     "name": "stdout",
     "output_type": "stream",
     "text": [
      "[34, 7, 5, 15, 2, 3]\n"
     ]
    }
   ],
   "source": [
    "array = [5,7,34,15,2,3]\n",
    "n = len(array)\n",
    "heapify(array,n,0)\n",
    "print(array)"
   ]
  },
  {
   "cell_type": "markdown",
   "metadata": {},
   "source": [
    "沒有與前面節點交換過的節點的值比前面節點的值大。"
   ]
  },
  {
   "cell_type": "markdown",
   "metadata": {},
   "source": [
    "Build Heap建構一個結構正確的堆:\n",
    "---\n",
    "因為前述的Heapify的特點，若要數列中所有數字都符合Heap的結構，需要再經過整理。\n",
    "從最後一個節點的父節點開始往前依次做Heapify，才能確保所有節點都經過整理。\n",
    "在建完一個堆之後，才能作Heap Sort。"
   ]
  },
  {
   "cell_type": "code",
   "execution_count": null,
   "metadata": {},
   "outputs": [],
   "source": [
    "def buildheap(array,n):\n",
    "    lastnode = n-1  \n",
    "    parent = (lastnode-1)//2   #最後一個節點的父節點位置\n",
    "    while parent >= 0:\n",
    "        heapify(array,n,parent)\n",
    "        parent = parent - 1"
   ]
  },
  {
   "cell_type": "code",
   "execution_count": null,
   "metadata": {},
   "outputs": [],
   "source": [
    "代入跟前面一樣的數列"
   ]
  },
  {
   "cell_type": "code",
   "execution_count": 77,
   "metadata": {},
   "outputs": [
    {
     "name": "stdout",
     "output_type": "stream",
     "text": [
      "[34, 15, 5, 7, 2, 3]\n"
     ]
    }
   ],
   "source": [
    "array = [5,7,34,15,2,3]\n",
    "n = len(array)\n",
    "buildheap(array,n)\n",
    "print(array)"
   ]
  },
  {
   "cell_type": "markdown",
   "metadata": {},
   "source": [
    "符合堆結構的數列"
   ]
  },
  {
   "cell_type": "markdown",
   "metadata": {},
   "source": [
    "Heapsort 堆排序概念:\n",
    "---\n",
    "將最前面的根節點與樹中最後一個節點作交換，再將最後一個節點排到新的數列中。\n",
    "此時最小的數會在根節點位置，不符合Heap結構，所以再從這個節點作一次Heapify，最大值將會再次在節點的位置。\n",
    "依此循環，直到所有數都排序好，即完成Heapsort。"
   ]
  },
  {
   "cell_type": "code",
   "execution_count": null,
   "metadata": {},
   "outputs": [],
   "source": [
    "def heap_sort(array,n):\n",
    "    buildheap(array,n)   #整理數列，符合堆的結構\n",
    "    i = len(array)-1\n",
    "    a = []\n",
    "    while i >= 0:\n",
    "        a.insert(0,array[0])    #把根節點的數放進新的數列\n",
    "        array[i],array[0] = array[0],array[i]   \n",
    "        heapify(array,i,0)\n",
    "        i = i - 1\n",
    "    print(a)"
   ]
  },
  {
   "cell_type": "markdown",
   "metadata": {},
   "source": [
    "代入一個數列"
   ]
  },
  {
   "cell_type": "code",
   "execution_count": 71,
   "metadata": {
    "scrolled": false
   },
   "outputs": [
    {
     "name": "stdout",
     "output_type": "stream",
     "text": [
      "[1, 2, 4, 5, 6, 7, 8, 9, 15, 22, 34, 34, 423]\n"
     ]
    }
   ],
   "source": [
    "array = [5,34,34,15,2,7,22,9,4,6,8,423,1]\n",
    "heap_sort(array,13)"
   ]
  },
  {
   "cell_type": "code",
   "execution_count": null,
   "metadata": {},
   "outputs": [],
   "source": [
    "完成Heapsort"
   ]
  }
 ],
 "metadata": {
  "kernelspec": {
   "display_name": "Python 3",
   "language": "python",
   "name": "python3"
  },
  "language_info": {
   "codemirror_mode": {
    "name": "ipython",
    "version": 3
   },
   "file_extension": ".py",
   "mimetype": "text/x-python",
   "name": "python",
   "nbconvert_exporter": "python",
   "pygments_lexer": "ipython3",
   "version": "3.7.3"
  }
 },
 "nbformat": 4,
 "nbformat_minor": 2
}
