{
 "cells": [
  {
   "cell_type": "markdown",
   "metadata": {},
   "source": [
    "2.Merge Sort\n",
    "===\n",
    "參考資料:https://www.youtube.com/watch?v=6pV2IF0fgKY&t=508s  \n",
    "         https://www.youtube.com/watch?v=mB5HXBb_HY8&t=207s   \n",
    "Merge 合併概念:\n",
    "---\n",
    "將兩個已排序好的數列A、B合併成新的數列C。\n",
    "合併方法:\n",
    "---\n",
    "從AB兩數列分別的第一位數字開始比較，  \n",
    "若A[0]<B[0]，則將A[0]放進C。接著比較A數列的第二個數跟B數列的第一個數;  \n",
    "若B[0]<A[0]，則將B[0]放進C。接著比較A數列的第一個數跟B數列的第二個數。  \n",
    "->以此往下做比較，將當前比較的數，值較小的放在C數列。  \n",
    "有較小值的數列，其比較位數往後移一位，再與另一數列的數字做比較。  \n",
    "直到有一邊的數列沒有下一個數了，剩下的數字可以直接放入C數列中(因為兩數列自身已經排序過)，完成合併。  "
   ]
  },
  {
   "cell_type": "code",
   "execution_count": 2,
   "metadata": {},
   "outputs": [],
   "source": [
    "def Merge(A,B):\n",
    "    C = []\n",
    "    i = 0 ; j = 0\n",
    "    while i < len(A) and j < len(B): #兩個數列都必需有數字才能比較\n",
    "        if A[i] < B[j]:\n",
    "            C.append(A[i])\n",
    "            i = i+1\n",
    "        elif A[i] >= B[j]:\n",
    "            C.append(B[j])\n",
    "            j = j+1\n",
    "    if i == len(A):    #A數列已經沒有下一個數字\n",
    "        C = C+B[j:]\n",
    "    elif j == len(B):   #B數列已經沒有下一個數字\n",
    "        C = C+A[i:]\n",
    "    return C"
   ]
  },
  {
   "cell_type": "markdown",
   "metadata": {},
   "source": [
    "代入兩組數列試試"
   ]
  },
  {
   "cell_type": "code",
   "execution_count": 3,
   "metadata": {
    "scrolled": true
   },
   "outputs": [
    {
     "data": {
      "text/plain": [
       "[1, 2, 3, 4, 4, 5, 6, 7, 9]"
      ]
     },
     "execution_count": 3,
     "metadata": {},
     "output_type": "execute_result"
    }
   ],
   "source": [
    "A = [1,3,4,5,6]\n",
    "B = [2,4,7,9]\n",
    "Merge(A,B)"
   ]
  },
  {
   "cell_type": "markdown",
   "metadata": {},
   "source": [
    "[Merge概念流程圖](https://github.com/starfish8681/starfish8681/blob/master/Week%208/Merge.jpg)\n",
    "----"
   ]
  },
  {
   "cell_type": "markdown",
   "metadata": {},
   "source": [
    "拆分概念:\n",
    "----\n",
    "將一個完整的數列，從中間拆成左右兩個數列，再將拆好的數列分別再次分為左右兩個數列，  \n",
    "以此循環直到每個數列都只剩下一個數。"
   ]
  },
  {
   "cell_type": "code",
   "execution_count": 9,
   "metadata": {},
   "outputs": [],
   "source": [
    "def Divide(c):\n",
    "    n = len(c)\n",
    "    if n < 2:     \n",
    "        return c   #在數列長度只有1或0的情況下，不需排序\n",
    "    else:\n",
    "        middle = n//2   #找出中間，切成左右兩個數列\n",
    "        A = c[:middle]\n",
    "        B = c[middle:]\n",
    "        A = Divide(A)\n",
    "        B = Divide(B)"
   ]
  },
  {
   "cell_type": "markdown",
   "metadata": {},
   "source": [
    "[Divide概念流程圖](https://github.com/starfish8681/starfish8681/blob/master/Week%208/Divide.jpg)\n",
    "----"
   ]
  },
  {
   "cell_type": "markdown",
   "metadata": {},
   "source": [
    "Merge Sort: 先拆分，再合併  \n",
    "----\n",
    "先將要排序的數列，拆分成多個長度為一的數列，再將數列兩兩合併，  \n",
    "合併完的數列再兩兩合併，直到全部合併為一個數列，即完成Merge Sort。"
   ]
  },
  {
   "cell_type": "code",
   "execution_count": 4,
   "metadata": {},
   "outputs": [],
   "source": [
    "def Merge_sort(c):\n",
    "    n = len(c)\n",
    "    if n < 2:     \n",
    "        return c   #在數列長度只有1或0的情況下，不需排序\n",
    "    else:\n",
    "        middle = n//2   #找出中間，切成左右兩個數列\n",
    "        A = c[:middle]\n",
    "        B = c[middle:]\n",
    "        \n",
    "        A = Merge_sort(A)\n",
    "        B = Merge_sort(B)\n",
    "        C = Merge(A,B)\n",
    "        return C"
   ]
  },
  {
   "cell_type": "markdown",
   "metadata": {},
   "source": [
    "代入隨機排列的數列"
   ]
  },
  {
   "cell_type": "code",
   "execution_count": 5,
   "metadata": {
    "scrolled": true
   },
   "outputs": [
    {
     "data": {
      "text/plain": [
       "[1, 2, 3, 3, 4, 5, 7, 45, 56]"
      ]
     },
     "execution_count": 5,
     "metadata": {},
     "output_type": "execute_result"
    }
   ],
   "source": [
    "L = [45,1,2,5,7,3,4,56,3]\n",
    "Merge_sort(L)"
   ]
  },
  {
   "cell_type": "markdown",
   "metadata": {},
   "source": [
    "完成Mergesort"
   ]
  }
 ],
 "metadata": {
  "kernelspec": {
   "display_name": "Python 3",
   "language": "python",
   "name": "python3"
  },
  "language_info": {
   "codemirror_mode": {
    "name": "ipython",
    "version": 3
   },
   "file_extension": ".py",
   "mimetype": "text/x-python",
   "name": "python",
   "nbconvert_exporter": "python",
   "pygments_lexer": "ipython3",
   "version": "3.7.3"
  }
 },
 "nbformat": 4,
 "nbformat_minor": 2
}
