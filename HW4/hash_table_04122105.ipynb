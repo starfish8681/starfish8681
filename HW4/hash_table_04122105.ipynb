{
 "cells": [
  {
   "cell_type": "code",
   "execution_count": 4,
   "metadata": {},
   "outputs": [
    {
     "name": "stdout",
     "output_type": "stream",
     "text": [
      "dc66bc437224cbfedb50876f7a218f0d\n",
      "292963591788870195217509746488364863245\n"
     ]
    }
   ],
   "source": [
    "from Crypto.Hash import MD5\n",
    "h = MD5.new()\n",
    "h.update(\"I am Pecu\".encode(\"utf-8\"))\n",
    "print(h.hexdigest())\n",
    "x = h.hexdigest()\n",
    "x = int(h.hexdigest(), 16)\n",
    "print(x)\n"
   ]
  },
  {
   "cell_type": "markdown",
   "metadata": {},
   "source": [
    "若鍵值是0-4，將轉成10進位的數字除以建值的數量5，以餘數來決定該字串要放在哪個index下的linked list內"
   ]
  },
  {
   "cell_type": "code",
   "execution_count": 2,
   "metadata": {},
   "outputs": [
    {
     "name": "stdout",
     "output_type": "stream",
     "text": [
      "0\n"
     ]
    }
   ],
   "source": [
    "print(x % 5)"
   ]
  },
  {
   "cell_type": "markdown",
   "metadata": {},
   "source": [
    "->放在array為0的linked-list下面"
   ]
  },
  {
   "cell_type": "code",
   "execution_count": null,
   "metadata": {},
   "outputs": [],
   "source": [
    "class ListNode:\n",
    "    def __init__(self, val):\n",
    "        self.val = val\n",
    "        self.next = None\n",
    "    \n",
    "class MyHashSet:\n",
    "    def __init__(self, capacity=5):\n",
    "        self.capacity = capacity\n",
    "        self.data = [None] * capacity\n",
    "  \n",
    "\n",
    "    def add(self, key):\n",
    "        \n",
    "        from Crypto.Hash import MD5\n",
    "        h = MD5.new()\n",
    "        h.update(key.encode(\"utf-8\"))         \n",
    "        x = h.hexdigest()\n",
    "        y = int(x, 16)   \n",
    "        i= y%self.capacity\n",
    "        if self.data[i] == None:\n",
    "            self.data[i] = ListNode(x)\n",
    "            \n",
    "\n",
    "    def remove(self, key):\n",
    "\n",
    "        \n",
    "    def contains(self, key):\n"
   ]
  },
  {
   "cell_type": "code",
   "execution_count": 5,
   "metadata": {},
   "outputs": [],
   "source": [
    "class ListNode:\n",
    "    def __init__(self, val):\n",
    "        self.val = val\n",
    "        self.next = None\n",
    "        \"\"\"\n",
    "        :type val: int\n",
    "        :type next: ListNode\n",
    "        :rtype: None        \n",
    "        \"\"\"\n",
    "class MyHashSet:\n",
    "    def __init__(self, capacity=5):\n",
    "        self.capacity = capacity\n",
    "        self.data = [None] * capacity\n",
    "        \"\"\"\n",
    "        :type capacity: int\n",
    "        :rtype: None\n",
    "        \"\"\"\n",
    "    def add(self, key):\n",
    "        \"\"\"\n",
    "        :type key: str\n",
    "        :rtype: None\n",
    "        \"\"\"\n",
    "        # 要用MD5加密儲存資料\n",
    "        h = MD5.new()\n",
    "        h.update(key.encode(\"utf-8\"))\n",
    "        h = h.hexdigest()\n",
    "        # MD5是16進位，轉成10進位\n",
    "        bucket = int(h , 16)%self.capacity\n",
    "        if self.data[bucket] == None:\n",
    "            self.data[bucket] = ListNode(h)\n",
    "        else:\n",
    "            new = ListNode(h)\n",
    "            now = self.data[bucket]\n",
    "            while now.next != None:\n",
    "                now = now.next\n",
    "            now.next = new"
   ]
  },
  {
   "cell_type": "code",
   "execution_count": null,
   "metadata": {},
   "outputs": [],
   "source": []
  }
 ],
 "metadata": {
  "kernelspec": {
   "display_name": "Python 3",
   "language": "python",
   "name": "python3"
  },
  "language_info": {
   "codemirror_mode": {
    "name": "ipython",
    "version": 3
   },
   "file_extension": ".py",
   "mimetype": "text/x-python",
   "name": "python",
   "nbconvert_exporter": "python",
   "pygments_lexer": "ipython3",
   "version": "3.7.3"
  }
 },
 "nbformat": 4,
 "nbformat_minor": 2
}
