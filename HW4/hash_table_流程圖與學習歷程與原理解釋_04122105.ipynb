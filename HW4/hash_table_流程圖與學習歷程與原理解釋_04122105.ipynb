{
 "cells": [
  {
   "cell_type": "markdown",
   "metadata": {},
   "source": [
    "Hash Table 學習歷程\n",
    "====\n",
    "Hash Table(雜湊表)介紹:\n",
    "---\n",
    "- 參考資料: 1.[資料結構-雜湊 (Hash)](https://ithelp.ithome.com.tw/articles/10208884)   2.[Hash Table：Intro](http://alrightchiu.github.io/SecondRound/hash-tableintrojian-jie.html#ht)   3.[Hash Table：Chaining](http://alrightchiu.github.io/SecondRound/hash-tablechaining.html)  \n",
    "在用雜湊函數運算出來的雜湊值，根據鍵 (key) 來儲存在數據結構中。而存放這些記錄的數組就稱為雜湊表。  \n",
    "每筆資料能運算出獨一無二的雜湊值，利用取餘數的方法來決定要儲存在哪以個位置。  "
   ]
  },
  {
   "cell_type": "code",
   "execution_count": 50,
   "metadata": {},
   "outputs": [
    {
     "name": "stdout",
     "output_type": "stream",
     "text": [
      "dc66bc437224cbfedb50876f7a218f0d\n",
      "292963591788870195217509746488364863245\n"
     ]
    }
   ],
   "source": [
    "from Crypto.Hash import MD5\n",
    "h = MD5.new()\n",
    "h.update(\"I am Pecu\".encode(\"utf-8\"))\n",
    "print(h.hexdigest())\n",
    "x = h.hexdigest()\n",
    "x = int(h.hexdigest(), 16)\n",
    "print(x)\n"
   ]
  },
  {
   "cell_type": "markdown",
   "metadata": {},
   "source": [
    "若預設儲存空間是5，將轉成10進位的數字除以空間數量5，以餘數來決定該字串要放在哪個index的slot內。  "
   ]
  },
  {
   "cell_type": "code",
   "execution_count": 51,
   "metadata": {},
   "outputs": [
    {
     "name": "stdout",
     "output_type": "stream",
     "text": [
      "0\n"
     ]
    }
   ],
   "source": [
    "print(x % 5)"
   ]
  },
  {
   "cell_type": "markdown",
   "metadata": {},
   "source": [
    "->放在array index為0的slot內。\n",
    "這樣的儲存方式，"
   ]
  },
  {
   "cell_type": "markdown",
   "metadata": {},
   "source": [
    "Collision(碰撞)\n",
    "----\n",
    "若新增新的資料時產生碰撞，代表使用雜湊函數後得出的雜湊值並非唯一，這樣會發生前一筆資料被後一筆資料覆蓋過去的問題。  \n",
    "此時解決方法，Chaining：使用Linked list把「Hashing到同一個slot」的資料串起來。  \n",
    "\n",
    "---\n",
    "Insert，Delete，Search概念\n",
    "----\n",
    "- Insert  \n",
    "1.將資料的雜湊值運算出來。  \n",
    "2.放進array index為該值的linked list中。  \n",
    "3.時間複雜度:O(1)  \n",
    "  \n",
    "  \n",
    "- Delete  \n",
    "1.將資料的雜湊值運算出來。  \n",
    "2.利用Linked list的traversal尋找該值。  \n",
    "   \n",
    "   \n",
    "- Search  \n",
    "1.將資料的雜湊值運算出來。  \n",
    "2.利用Linked list的traversal尋找該值。  \n",
    "3.將節點重新連接。  \n",
    "   \n",
    "   \n",
    "- Search與Delete的時間複雜度：  \n",
    "worst case：O(n)，所有資料都被分配到同一個slot中。  \n",
    "average case：O(1+α)，其中α=「資料數量(n)」除以「slot個數(m)」。\n",
    "\n",
    "\n",
    "\n",
    "\n",
    "\n"
   ]
  },
  {
   "cell_type": "markdown",
   "metadata": {},
   "source": [
    "完整程式碼\n",
    "----"
   ]
  },
  {
   "cell_type": "code",
   "execution_count": 52,
   "metadata": {},
   "outputs": [],
   "source": [
    "from Crypto.Hash import MD5\n",
    "\n",
    "class ListNode:\n",
    "    def __init__(self, val):\n",
    "        self.val = val\n",
    "        self.next = None\n",
    "    \n",
    "class MyHashSet:\n",
    "    def __init__(self, capacity=5):\n",
    "        self.capacity = capacity\n",
    "        self.data = [None] * capacity\n",
    "  \n",
    "\n",
    "    def add(self, key):   \n",
    "        h = MD5.new()\n",
    "        h.update(key.encode(\"utf-8\"))         \n",
    "        x = h.hexdigest()\n",
    "        y = int(x, 16)   \n",
    "        i = y%self.capacity\n",
    "        if self.data[i] == None:\n",
    "            self.data[i] = ListNode(x)\n",
    "        else:\n",
    "            current = self.data[i]\n",
    "            while current != None:\n",
    "                current = current.next\n",
    "            current = ListNode(x)\n",
    "                  \n",
    "                \n",
    "    def remove(self, key):\n",
    "        h = MD5.new()\n",
    "        h.update(key.encode(\"utf-8\"))         \n",
    "        x = h.hexdigest()\n",
    "        y = int(x, 16)   \n",
    "        i = y%self.capacity\n",
    "        if self.contains(key) is True:\n",
    "            if self.data[i].val == x:\n",
    "                self.data[i] = self.data[i].next\n",
    "            else:\n",
    "                pre = self.data[i]\n",
    "                current = self.data[i].next\n",
    "                while current:  \n",
    "                    if current.val == x:\n",
    "                        pre.next = current.next\n",
    "                    else:\n",
    "                        current = current.next\n",
    "                        pre = pre.next  \n",
    "                        \n",
    "  \n",
    "    def contains(self, key):\n",
    "        h = MD5.new()\n",
    "        h.update(key.encode(\"utf-8\"))         \n",
    "        x = h.hexdigest()\n",
    "        y = int(x, 16)   \n",
    "        i = y%self.capacity\n",
    "        current = self.data[i]\n",
    "        if current is None:\n",
    "            return False\n",
    "        else:\n",
    "            while current != None:\n",
    "                if current.val == x:\n",
    "                    return True\n",
    "                else:\n",
    "                    current = current.next\n",
    "            return False\n",
    "                    \n"
   ]
  }
 ],
 "metadata": {
  "kernelspec": {
   "display_name": "Python 3",
   "language": "python",
   "name": "python3"
  },
  "language_info": {
   "codemirror_mode": {
    "name": "ipython",
    "version": 3
   },
   "file_extension": ".py",
   "mimetype": "text/x-python",
   "name": "python",
   "nbconvert_exporter": "python",
   "pygments_lexer": "ipython3",
   "version": "3.7.3"
  }
 },
 "nbformat": 4,
 "nbformat_minor": 2
}
