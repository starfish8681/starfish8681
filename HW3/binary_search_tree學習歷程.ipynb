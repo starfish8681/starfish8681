{
 "cells": [
  {
   "cell_type": "markdown",
   "metadata": {},
   "source": [
    "Binary Search Tree 學習歷程\n",
    "===\n",
    "Binary Tree介紹:\n",
    "---\n",
    "二元樹是每個節點最多有兩個子樹的樹結構，子樹有左右之分，二元樹常被用於實現二元搜尋樹(binary search tree)和二元堆(binary heap)。\n",
    "  \n",
    "- 參考資料: [二元樹](https://emn178.pixnet.net/blog/post/94164966)\n",
    "  \n",
    "Binary Search Tree介紹:\n",
    "---\n",
    "二元搜尋樹有以下特性:  \n",
    "1.在左子樹的鍵值均小於樹根的鍵值。  \n",
    "2.在右子樹的所有鍵值均大於樹根的鍵值。  \n",
    "3.左子樹和右子樹亦是二元搜尋樹。  \n",
    "4.每個鍵值都不一樣。  \n",
    "  \n",
    "- 參考資料: [樹狀結構與二元樹](http://marklin-blog.logdown.com/posts/1526463)  \n",
    "  \n",
    "建構一個Linked結構的樹節點:\n",
    "---\n",
    "每一個樹節點要有: 1.自己的值(val)、2.左邊子節點(left)、3.右邊子節點(right)。  "
   ]
  },
  {
   "cell_type": "code",
   "execution_count": 27,
   "metadata": {},
   "outputs": [],
   "source": [
    "class TreeNode(object):\n",
    "    def __init__(self,x):\n",
    "        self.val = x\n",
    "        self.left = None\n",
    "        self.right = None"
   ]
  },
  {
   "cell_type": "markdown",
   "metadata": {},
   "source": [
    "Insert\n",
    "----\n",
    "1.首先看rootnode有沒有存在了: 若沒有，則插入的數(val)即為rootnode。  \n",
    "2.若rootnode已存在，則看val是否已經在樹裡面了，有的話就不插入(回傳False)。  \n",
    "3.如果val是一個新(沒出現在樹裡)的數，跟當前節點比大小，再看當前節點是否已經有對應的子節點。  \n",
    "若已經有了，就用遞迴方式一直和接下來的節點比較，直到找到該放的位置。"
   ]
  },
  {
   "cell_type": "code",
   "execution_count": 40,
   "metadata": {},
   "outputs": [],
   "source": [
    "class Solution(object):\n",
    "    def insert(self, root, val):\n",
    "        if root.val:\n",
    "            if root.val == val:\n",
    "                return False   #已經有此數\n",
    "            elif root.val < val:\n",
    "                if root.right:\n",
    "                    root = root.right\n",
    "                    return self.insert(root, val)  \n",
    "                else:\n",
    "                    root.right = TreeNode(val)\n",
    "            else:\n",
    "                if root.left:\n",
    "                    root = root.left\n",
    "                    return self.insert(root, val)\n",
    "                else:\n",
    "                    root.left = TreeNode(val)\n",
    "        else:\n",
    "            root.val = TreeNode(val)"
   ]
  },
  {
   "cell_type": "markdown",
   "metadata": {},
   "source": [
    "嘗試代入數字試試看。\n",
    "代入數字依序為: 7,5,10,3,6,8,11  \n",
    "[Insert 流程圖](https://github.com/starfish8681/starfish8681/blob/master/Week%209/Insert.jpg)\n",
    "----"
   ]
  },
  {
   "cell_type": "code",
   "execution_count": 41,
   "metadata": {},
   "outputs": [],
   "source": [
    "array = [5,10,3,6,8,11]\n",
    "bst = TreeNode(7)\n",
    "for i in array:\n",
    "    Solution().insert(bst,i)"
   ]
  },
  {
   "cell_type": "code",
   "execution_count": 42,
   "metadata": {},
   "outputs": [
    {
     "name": "stdout",
     "output_type": "stream",
     "text": [
      "7\n",
      "5\n",
      "10\n",
      "3\n",
      "6\n",
      "8\n",
      "11\n"
     ]
    }
   ],
   "source": [
    "print(bst.val)\n",
    "print(bst.left.val)\n",
    "print(bst.right.val)\n",
    "print(bst.left.left.val)\n",
    "print(bst.left.right.val)\n",
    "print(bst.right.left.val)\n",
    "print(bst.right.right.val)"
   ]
  },
  {
   "cell_type": "markdown",
   "metadata": {},
   "source": [
    "結果與流程圖結構相同，是一棵平衡的樹。"
   ]
  },
  {
   "cell_type": "markdown",
   "metadata": {},
   "source": [
    "Search\n",
    "---\n",
    "1.首先看rootnode有沒有存在了: 若沒有，則回傳False。  \n",
    "2.若rootnode已存在，則看target是否等於rootnode的值，是的話就找到了，回傳True。  \n",
    "3.如果target不等於rootnode的數，看當前節點有沒有對應的子節點。  \n",
    "  若有，就用遞迴方式一直和接下來的子節點比較，直到找到要找的數，或是都沒找到  \n",
    "\n",
    "- 參考影片: https://www.youtube.com/watch?v=YlgPi75hIBc"
   ]
  },
  {
   "cell_type": "code",
   "execution_count": 43,
   "metadata": {},
   "outputs": [],
   "source": [
    "class Solution(object):        \n",
    "    def search(self, root, target):\n",
    "        if root.val:\n",
    "            if root.val == target:\n",
    "                return True\n",
    "            elif root.val < target:\n",
    "                if root.right:\n",
    "                    root = root.right\n",
    "                    return self.search(root, target)  \n",
    "                else:\n",
    "                    return False\n",
    "            else: \n",
    "                if root.left:\n",
    "                    root = root.left\n",
    "                    return self.search(root, target)\n",
    "        else:\n",
    "            return False"
   ]
  },
  {
   "cell_type": "markdown",
   "metadata": {},
   "source": [
    "代入數字，找找看4和7。\n",
    "[Search 流程圖](https://github.com/starfish8681/starfish8681/blob/master/Week%209/Search.jpg)\n",
    "----"
   ]
  },
  {
   "cell_type": "code",
   "execution_count": 46,
   "metadata": {},
   "outputs": [
    {
     "data": {
      "text/plain": [
       "False"
      ]
     },
     "execution_count": 46,
     "metadata": {},
     "output_type": "execute_result"
    }
   ],
   "source": [
    "Solution().search(bst,4)"
   ]
  },
  {
   "cell_type": "code",
   "execution_count": 45,
   "metadata": {},
   "outputs": [
    {
     "data": {
      "text/plain": [
       "True"
      ]
     },
     "execution_count": 45,
     "metadata": {},
     "output_type": "execute_result"
    }
   ],
   "source": [
    "Solution().search(bst,7)"
   ]
  },
  {
   "cell_type": "markdown",
   "metadata": {},
   "source": [
    "Delete\n",
    "----\n",
    "共有以下幾種情形，自己漏掉許多情形沒考量到，有參考影片: https://www.youtube.com/watch?v=LSju119w8BE   \n",
    "\n",
    "- 沒有成功移除-> 回傳 False  \n",
    "1.樹中沒有任何元素  \n",
    "2.樹中本來就沒有要移除的元素  \n",
    "  -> 使用前面建的Search功能先看看樹裡面有沒有要刪的數。  \n",
    "  \n",
    "  \n",
    "- 有成功移除，且移除的是rootnode   \n",
    "3.rootnode就是要移除的數，而且沒有子節點 -> 變成沒有rootnode    \n",
    "4.rootnode就是要移除的數，只有單一個左/右子節點 -> 左/右子節點變成根節點   \n",
    "5.rootnode就是要移除的數，且當前要移除的節點有兩邊子節點 -> 找出當前節點的右邊子樹中最小的數，替代當前節點的位置。  \n",
    "(右邊子節點往左一路找到最後一個左節點replacednode，最後一個左節點的父節點replacednodeP改成沒有左邊子節點)  \n",
    "這樣新的當前節點依然會比其他右邊子節點的小，比左邊子節點大，其他節點就不用做更動。     \n",
    "  \n",
    "  \n",
    "- 有成功移除，且移除的不是rootnode    \n",
    "6.當前要移除的節點沒有子節點 -> 父節點連結到None  \n",
    "7.當前要移除的節點只有左/右邊的子節點 -> 把父節點跟子節點連接  \n",
    "(當前節點的子節點取代當前節點的位置)  \n",
    "8.當前要移除的節點有兩邊子節點 -> 找出當前節點的右邊子樹中最小的數，替代當前節點的位置。    \n",
    "(右邊子節點往左一路找到最後一個左節點replacednode，最後一個左節點的父節點replacednodeP改成沒有左邊子節點)    \n",
    "這樣新的當前節點依然會比其他右邊子節點的小，比左邊子節點大，其他節點就不用做更動。  \n",
    "   \n",
    "因為Delete要考量的要素很多，拆分成小塊討論。"
   ]
  },
  {
   "cell_type": "markdown",
   "metadata": {},
   "source": [
    "1.樹中沒有任何元素 -> False"
   ]
  },
  {
   "cell_type": "code",
   "execution_count": null,
   "metadata": {},
   "outputs": [],
   "source": [
    "if root.val is None:\n",
    "    return False"
   ]
  },
  {
   "cell_type": "markdown",
   "metadata": {},
   "source": [
    "2.樹中本來就沒有要移除的元素 -> False  \n",
    "使用前面寫的Search來確認數字是否存在。"
   ]
  },
  {
   "cell_type": "code",
   "execution_count": null,
   "metadata": {},
   "outputs": [],
   "source": [
    "if self.search(root,target) is False:\n",
    "    return False"
   ]
  },
  {
   "cell_type": "markdown",
   "metadata": {},
   "source": [
    "3.rootnode就是要移除的數，而且沒有子節點 -> 沒有rootnode  \n",
    "4.rootnode就是要移除的數，只有單一個左/右子節點 -> 左/右子節點變成根節點"
   ]
  },
  {
   "cell_type": "code",
   "execution_count": null,
   "metadata": {},
   "outputs": [],
   "source": [
    "if root.val == target:\n",
    "    if root.left is None and root.right is None:\n",
    "        root = None   \n",
    "    elif root.left is None and root.right != None:\n",
    "        root = root.right   \n",
    "    elif root.left != None and root.right is None:\n",
    "        root = root.left"
   ]
  },
  {
   "cell_type": "markdown",
   "metadata": {},
   "source": [
    "5.rootnode就是要移除的數，且當前要移除的節點有兩邊子節點  \n",
    " -> 使用while迴圈找尋要替代root的節點。  \n",
    "  [Delete Root 流程圖](https://github.com/starfish8681/starfish8681/blob/master/Week%209/Delete_root.jpg)\n",
    "----\n"
   ]
  },
  {
   "cell_type": "code",
   "execution_count": null,
   "metadata": {},
   "outputs": [],
   "source": [
    "    elif root.left and root.right:\n",
    "        replacednodeP = root\n",
    "        replacednode = root.right\n",
    "        while replacednode.left:\n",
    "            replacednodeP = replacednode\n",
    "            replacednode = replacednode.left\n",
    "        root.val = replacednode.val\n",
    "        if replacednode.right:\n",
    "            if replacednodeP < replacednode:\n",
    "                replacednodeP.right = replacednode.right\n",
    "            else:\n",
    "                replacednodeP.left = replacednode.right\n",
    "        else:    #replacednode本身就是最後一個左子節點，所以不會還有left\n",
    "            if replacednodeP < replacednode:\n",
    "                replacednodeP.right = None\n",
    "            else:\n",
    "                replacednodeP.left = None"
   ]
  },
  {
   "cell_type": "markdown",
   "metadata": {},
   "source": [
    "6.當前要移除的節點沒有子節點 -> 父節點連結到None  \n",
    "7.當前要移除的節點只有左/右邊的子節點 -> 把父節點跟子節點連接\n",
    " -> 首先要使用while迴圈找到要移除的節點在樹中的位置，再把要刪除節點的parent連接上None。  \n",
    "    要先確認刪掉的節點本身是右還左節點。  "
   ]
  },
  {
   "cell_type": "code",
   "execution_count": null,
   "metadata": {},
   "outputs": [],
   "source": [
    "if root.val < target:\n",
    "    parent = None\n",
    "    currentnode = root\n",
    "    while currentnode != target:\n",
    "        if currentnode.val < target:\n",
    "            parent = currentnode\n",
    "            currentnode = currentnode.left\n",
    "        elif currentnode.val > target:\n",
    "            parent = currentnode\n",
    "            currentnode = currentnode.right\n",
    "    if currentnode.left is None and currentnode.right is None:\n",
    "        if parent.val < target:\n",
    "            parent.right = None\n",
    "        else:\n",
    "            parent.left = None   \n",
    "    elif currentnode.left is None and currentnode.right != None:\n",
    "        if parent.val < target:\n",
    "            parent.right = currentnode.right\n",
    "        else:\n",
    "            parent.left = currentnode.right   \n",
    "    elif currentnode.left != None and currentnode.right is None:\n",
    "        if parent.val < target:\n",
    "            parent.right = currentnode.left\n",
    "        else:\n",
    "            parent.left = currentnode.left"
   ]
  },
  {
   "cell_type": "markdown",
   "metadata": {},
   "source": [
    "8.當前要移除的節點有兩邊子節點 -> 找出當前節點的右邊子樹中最小的數，替代當前節點的位置  \n",
    " ->用移除rootnode時的方法，找出小於currentnode.right，大於currentnode.left的節點，跟currentnode交換。"
   ]
  },
  {
   "cell_type": "code",
   "execution_count": null,
   "metadata": {},
   "outputs": [],
   "source": [
    "    elif currentnode.left and currentnode.right:\n",
    "        replacednodeP = currentnode\n",
    "        replacednode = currentnode.right\n",
    "        while replacednode.left:\n",
    "            replacednodeP = replacednode\n",
    "            replacednode = replacednode.left\n",
    "        currentnode.val = replacednode.val\n",
    "        if replacednode.right:\n",
    "            if replacednodeP < replacednode:\n",
    "                replacednodeP.right = replacednode.right\n",
    "            else:\n",
    "                replacednodeP.left = replacednode.right\n",
    "        else:       #replacednode本身就是最後一個左子節點，所以沒有還有left的情況\n",
    "            if replacednodeP < replacednode:\n",
    "                replacednodeP.right = None\n",
    "            else:\n",
    "                replacednodeP.left = None"
   ]
  },
  {
   "cell_type": "markdown",
   "metadata": {},
   "source": [
    "全部組合在一起。  \n",
    "完整Delete程式碼:  \n",
    "---"
   ]
  },
  {
   "cell_type": "code",
   "execution_count": 48,
   "metadata": {},
   "outputs": [],
   "source": [
    "class Solution(object):\n",
    "    def delete(self, root, target):\n",
    "        if self.search(root,target) is True:   \n",
    "            if root.val == target:\n",
    "                if root.left is None and root.right is None:\n",
    "                    root.val = None   \n",
    "                elif root.left is None and root.right != None:\n",
    "                    root.val = root.right   \n",
    "                elif root.left != None and root.right is None:\n",
    "                    root.val = root.left\n",
    "                elif root.left and root.right:\n",
    "                    replacednodeP = root\n",
    "                    replacednode = root.right\n",
    "                    while replacednode.left:\n",
    "                        replacednodeP = replacednode\n",
    "                        replacednode = replacednode.left\n",
    "                    root.val = replacednode.val\n",
    "                    if replacednode.right:\n",
    "                        if replacednodeP < replacednode:\n",
    "                            replacednodeP.right = replacednode.right\n",
    "                        else:\n",
    "                            replacednodeP.left = replacednode.right\n",
    "                    else:    #replacednode本身就是最後一個左子節點，所以不會還有left\n",
    "                        if replacednodeP < replacednode:\n",
    "                            replacednodeP.right = None\n",
    "                        else:\n",
    "                            replacednodeP.left = None\n",
    "\n",
    "                    \n",
    "            elif root.val != target:\n",
    "                parent = None\n",
    "                currentnode = root\n",
    "                while currentnode != target:\n",
    "                    if currentnode.val < target:\n",
    "                        parent = currentnode\n",
    "                        currentnode = currentnode.left\n",
    "                    elif currentnode.val > target:\n",
    "                        parent = currentnode\n",
    "                        currentnode = currentnode.right\n",
    "                if currentnode.left is None and currentnode.right is None:\n",
    "                    if parent.val < target:\n",
    "                        parent.right = None\n",
    "                    else:\n",
    "                        parent.left = None\n",
    "                elif currentnode.left is None and currentnode.right != None:\n",
    "                    if parent.val < target:\n",
    "                        parent.right = currentnode.right\n",
    "                    else:\n",
    "                        parent.left = currentnode.right  \n",
    "                elif currentnode.left != None and currentnode.right is None:\n",
    "                    if parent.val < target:\n",
    "                        parent.right = currentnode.left\n",
    "                    else:\n",
    "                        parent.left = currentnode.left  \n",
    "                elif currentnode.left and currentnode.right:\n",
    "                    replacednodeP = currentnode\n",
    "                    replacednode = currentnode.right\n",
    "                    while replacednode.left:\n",
    "                        replacednodeP = replacednode\n",
    "                        replacednode = replacednode.left\n",
    "                    currentnode.val = replacednode.val\n",
    "                    if replacednode.right:\n",
    "                        if replacednodeP < replacednode:\n",
    "                            replacednodeP.right = replacednode.right\n",
    "                        else:\n",
    "                            replacednodeP.left = replacednode.right\n",
    "                    else:       #replacednode本身就是最後一個左子節點，所以不會還有left\n",
    "                        if replacednodeP < replacednode:\n",
    "                            replacednodeP.right = None\n",
    "                        else:\n",
    "                            replacednodeP.left = None\n",
    "        \n",
    "            return True       \n",
    "        else:\n",
    "            return False              \n",
    "        return root.val             "
   ]
  },
  {
   "cell_type": "markdown",
   "metadata": {},
   "source": [
    "Modify\n",
    "----\n",
    "1.若target跟new_val的數字相同，不變。\n",
    "2.若target跟new_val的數字相同，先刪除，再新增。  "
   ]
  },
  {
   "cell_type": "code",
   "execution_count": 49,
   "metadata": {},
   "outputs": [],
   "source": [
    "class Solution(object):    \n",
    "    def modify(self, root, target, new_val):    \n",
    "        if root == new_val:\n",
    "            return\n",
    "        else:\n",
    "            self.delete(root, target)\n",
    "            self.insert(root, new_val)\n",
    "        return root.val"
   ]
  }
 ],
 "metadata": {
  "kernelspec": {
   "display_name": "Python 3",
   "language": "python",
   "name": "python3"
  },
  "language_info": {
   "codemirror_mode": {
    "name": "ipython",
    "version": 3
   },
   "file_extension": ".py",
   "mimetype": "text/x-python",
   "name": "python",
   "nbconvert_exporter": "python",
   "pygments_lexer": "ipython3",
   "version": "3.7.3"
  }
 },
 "nbformat": 4,
 "nbformat_minor": 2
}
