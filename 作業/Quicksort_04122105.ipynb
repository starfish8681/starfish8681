{
 "cells": [
  {
   "cell_type": "markdown",
   "metadata": {},
   "source": [
    "作業 Quick Sort\n",
    "===\n",
    "日延A 04122105 高星瑜\n",
    "\n",
    "什麼是 Quick Sort?\n",
    "-----\n",
    "在數列中任意挑選一個數作為基準點，然後調整數列，使得基準點左邊的數都比基準點小，右邊的數都比基準點大，此時基準點本身已經排列在正確位置。\n",
    "再來，從原基準點左右兩個數列中，再各任意挑選一個數作為基準點，重複前述調整方法。反覆直到基準點左右無法分出新的數列為止，即完成排序。\n",
    "\n",
    "Python 程式碼\n",
    "-----"
   ]
  },
  {
   "cell_type": "code",
   "execution_count": 2,
   "metadata": {},
   "outputs": [],
   "source": [
    "def Quicksort(array):\n",
    "    left = []\n",
    "    equal = []\n",
    "    right = []\n",
    "\n",
    "    if len(array) > 1:\n",
    "        pivot = array[0] #將基準點設定為數列中的第一個數\n",
    "        for x in array:\n",
    "            if x < pivot:\n",
    "                left.append(x)\n",
    "            elif x == pivot:\n",
    "                equal.append(x)\n",
    "            elif x > pivot:\n",
    "                right.append(x)\n",
    "        return Quicksort(left)+equal+Quicksort(right)\n",
    "    else:  \n",
    "        return array"
   ]
  },
  {
   "cell_type": "code",
   "execution_count": 3,
   "metadata": {},
   "outputs": [],
   "source": [
    "L = [54,26,93,17,77,31,44,55,20]"
   ]
  },
  {
   "cell_type": "code",
   "execution_count": 4,
   "metadata": {},
   "outputs": [
    {
     "data": {
      "text/plain": [
       "[17, 20, 26, 31, 44, 54, 55, 77, 93]"
      ]
     },
     "execution_count": 4,
     "metadata": {},
     "output_type": "execute_result"
    }
   ],
   "source": [
    "Quicksort(L)"
   ]
  },
  {
   "cell_type": "markdown",
   "metadata": {},
   "source": [
    "Quick Sort 時間複雜度\n",
    "-----\n",
    "Best Case：Ο(n log n)   \n",
    "第一個基準值的位置剛好是中位數，將資料均分成二等份\n",
    "\n",
    "Worst Case：Ο(n2)　 \n",
    "當資料的順序恰好為由大到小或由小到大時，有分割跟沒分割一樣\n",
    "\n",
    "Average Case：Ο(n log n)"
   ]
  },
  {
   "cell_type": "markdown",
   "metadata": {},
   "source": [
    "Quick Sort流程圖\n",
    "-----\n",
    "[FlowChart](https://github.com/starfish8681/starfish8681/blob/master/%E4%BD%9C%E6%A5%AD/Quicksort_Flowchart_04122105.jpg)"
   ]
  }
 ],
 "metadata": {
  "kernelspec": {
   "display_name": "Python 3",
   "language": "python",
   "name": "python3"
  },
  "language_info": {
   "codemirror_mode": {
    "name": "ipython",
    "version": 3
   },
   "file_extension": ".py",
   "mimetype": "text/x-python",
   "name": "python",
   "nbconvert_exporter": "python",
   "pygments_lexer": "ipython3",
   "version": "3.7.3"
  }
 },
 "nbformat": 4,
 "nbformat_minor": 2
}
